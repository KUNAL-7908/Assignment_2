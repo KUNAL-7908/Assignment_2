{
 "cells": [
  {
   "cell_type": "markdown",
   "id": "bfcf4894",
   "metadata": {},
   "source": [
    "1) Write a python program to sort the list of hetrogeneous data.\n",
    "eg.\n",
    "\n",
    "L = [\"Ram\",1,\"Shyaam\",2,\"Aman\",3]\n",
    "\n",
    "print(L)\n",
    "\n",
    "L.sort()\n",
    "\n",
    "print(L)\n",
    "\n",
    "Above code gives error. correct it"
   ]
  },
  {
   "cell_type": "code",
   "execution_count": 1,
   "id": "618c346b",
   "metadata": {},
   "outputs": [
    {
     "name": "stdout",
     "output_type": "stream",
     "text": [
      "['Aman', 1, 'Ram', 2, 'Shyaam', 3]\n"
     ]
    }
   ],
   "source": [
    "L = [\"Ram\",1,\"Shyaam\",2,\"Aman\",3]\n",
    "\n",
    "# Storing the Integer values into Integer_val list and String values into String_val list\n",
    "Integer_val = [values for values in L if isinstance(values,int)]\n",
    "String_val = [values for values in L if isinstance(values,str)]\n",
    "\n",
    "#Sorting the Integer and string lists separately\n",
    "Integer_val.sort()\n",
    "String_val.sort()\n",
    "\n",
    "# Merging them together to make a whole sorted list\n",
    "merged_list = []\n",
    "for values in L:\n",
    "    if isinstance(values,int):\n",
    "        merged_list.append(Integer_val.pop(0))\n",
    "    else:\n",
    "        merged_list.append(String_val.pop(0))\n",
    "print(merged_list)"
   ]
  },
  {
   "cell_type": "code",
   "execution_count": null,
   "id": "b4a1f03f",
   "metadata": {},
   "outputs": [],
   "source": []
  },
  {
   "cell_type": "code",
   "execution_count": null,
   "id": "d6b214a2",
   "metadata": {},
   "outputs": [],
   "source": []
  }
 ],
 "metadata": {
  "kernelspec": {
   "display_name": "Python 3 (ipykernel)",
   "language": "python",
   "name": "python3"
  },
  "language_info": {
   "codemirror_mode": {
    "name": "ipython",
    "version": 3
   },
   "file_extension": ".py",
   "mimetype": "text/x-python",
   "name": "python",
   "nbconvert_exporter": "python",
   "pygments_lexer": "ipython3",
   "version": "3.9.6"
  }
 },
 "nbformat": 4,
 "nbformat_minor": 5
}
